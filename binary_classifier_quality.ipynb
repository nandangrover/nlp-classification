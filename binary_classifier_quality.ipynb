{
 "cells": [
  {
   "cell_type": "code",
   "execution_count": 1,
   "metadata": {},
   "outputs": [
    {
     "name": "stderr",
     "output_type": "stream",
     "text": [
      "/Users/nandangrover/miniforge3/envs/venv/lib/python3.10/site-packages/tqdm/auto.py:22: TqdmWarning: IProgress not found. Please update jupyter and ipywidgets. See https://ipywidgets.readthedocs.io/en/stable/user_install.html\n",
      "  from .autonotebook import tqdm as notebook_tqdm\n"
     ]
    }
   ],
   "source": [
    "import pandas as pd\n",
    "import nlpaug.augmenter.word as naw\n",
    "from sklearn.feature_extraction.text import CountVectorizer\n",
    "from nltk.stem import WordNetLemmatizer\n",
    "from nltk.tokenize import word_tokenize\n",
    "from nltk.stem import PorterStemmer\n",
    "from nltk.corpus import stopwords\n",
    "import gensim\n",
    "\n",
    "stemmer = PorterStemmer()\n",
    "lemmatizer = WordNetLemmatizer()\n",
    "pd.options.mode.chained_assignment = None"
   ]
  },
  {
   "cell_type": "code",
   "execution_count": 2,
   "metadata": {},
   "outputs": [
    {
     "data": {
      "text/html": [
       "<div>\n",
       "<style scoped>\n",
       "    .dataframe tbody tr th:only-of-type {\n",
       "        vertical-align: middle;\n",
       "    }\n",
       "\n",
       "    .dataframe tbody tr th {\n",
       "        vertical-align: top;\n",
       "    }\n",
       "\n",
       "    .dataframe thead th {\n",
       "        text-align: right;\n",
       "    }\n",
       "</style>\n",
       "<table border=\"1\" class=\"dataframe\">\n",
       "  <thead>\n",
       "    <tr style=\"text-align: right;\">\n",
       "      <th></th>\n",
       "      <th>transcript_id</th>\n",
       "      <th>mi_quality</th>\n",
       "      <th>video_title</th>\n",
       "      <th>video_url</th>\n",
       "      <th>topic</th>\n",
       "      <th>utterance_id</th>\n",
       "      <th>interlocutor</th>\n",
       "      <th>timestamp</th>\n",
       "      <th>utterance_text</th>\n",
       "      <th>main_therapist_behaviour</th>\n",
       "      <th>client_talk_type</th>\n",
       "    </tr>\n",
       "  </thead>\n",
       "  <tbody>\n",
       "    <tr>\n",
       "      <th>0</th>\n",
       "      <td>0</td>\n",
       "      <td>high</td>\n",
       "      <td>NEW VIDEO: Brief intervention: \"Barbara\"</td>\n",
       "      <td>https://www.youtube.com/watch?v=PaSKcfTmFEk</td>\n",
       "      <td>reducing alcohol consumption</td>\n",
       "      <td>0</td>\n",
       "      <td>therapist</td>\n",
       "      <td>00:00:13</td>\n",
       "      <td>Thanks for filling it out. We give this form t...</td>\n",
       "      <td>question</td>\n",
       "      <td>NaN</td>\n",
       "    </tr>\n",
       "    <tr>\n",
       "      <th>1</th>\n",
       "      <td>0</td>\n",
       "      <td>high</td>\n",
       "      <td>NEW VIDEO: Brief intervention: \"Barbara\"</td>\n",
       "      <td>https://www.youtube.com/watch?v=PaSKcfTmFEk</td>\n",
       "      <td>reducing alcohol consumption</td>\n",
       "      <td>1</td>\n",
       "      <td>client</td>\n",
       "      <td>00:00:24</td>\n",
       "      <td>Sure.</td>\n",
       "      <td>NaN</td>\n",
       "      <td>neutral</td>\n",
       "    </tr>\n",
       "    <tr>\n",
       "      <th>2</th>\n",
       "      <td>0</td>\n",
       "      <td>high</td>\n",
       "      <td>NEW VIDEO: Brief intervention: \"Barbara\"</td>\n",
       "      <td>https://www.youtube.com/watch?v=PaSKcfTmFEk</td>\n",
       "      <td>reducing alcohol consumption</td>\n",
       "      <td>2</td>\n",
       "      <td>therapist</td>\n",
       "      <td>00:00:25</td>\n",
       "      <td>So, let's see. It looks that you put-- You dri...</td>\n",
       "      <td>therapist_input</td>\n",
       "      <td>NaN</td>\n",
       "    </tr>\n",
       "    <tr>\n",
       "      <th>3</th>\n",
       "      <td>0</td>\n",
       "      <td>high</td>\n",
       "      <td>NEW VIDEO: Brief intervention: \"Barbara\"</td>\n",
       "      <td>https://www.youtube.com/watch?v=PaSKcfTmFEk</td>\n",
       "      <td>reducing alcohol consumption</td>\n",
       "      <td>3</td>\n",
       "      <td>client</td>\n",
       "      <td>00:00:34</td>\n",
       "      <td>Mm-hmm.</td>\n",
       "      <td>NaN</td>\n",
       "      <td>neutral</td>\n",
       "    </tr>\n",
       "    <tr>\n",
       "      <th>4</th>\n",
       "      <td>0</td>\n",
       "      <td>high</td>\n",
       "      <td>NEW VIDEO: Brief intervention: \"Barbara\"</td>\n",
       "      <td>https://www.youtube.com/watch?v=PaSKcfTmFEk</td>\n",
       "      <td>reducing alcohol consumption</td>\n",
       "      <td>4</td>\n",
       "      <td>therapist</td>\n",
       "      <td>00:00:34</td>\n",
       "      <td>-and you usually have three to four drinks whe...</td>\n",
       "      <td>therapist_input</td>\n",
       "      <td>NaN</td>\n",
       "    </tr>\n",
       "  </tbody>\n",
       "</table>\n",
       "</div>"
      ],
      "text/plain": [
       "   transcript_id mi_quality                               video_title  \\\n",
       "0              0       high  NEW VIDEO: Brief intervention: \"Barbara\"   \n",
       "1              0       high  NEW VIDEO: Brief intervention: \"Barbara\"   \n",
       "2              0       high  NEW VIDEO: Brief intervention: \"Barbara\"   \n",
       "3              0       high  NEW VIDEO: Brief intervention: \"Barbara\"   \n",
       "4              0       high  NEW VIDEO: Brief intervention: \"Barbara\"   \n",
       "\n",
       "                                     video_url                         topic  \\\n",
       "0  https://www.youtube.com/watch?v=PaSKcfTmFEk  reducing alcohol consumption   \n",
       "1  https://www.youtube.com/watch?v=PaSKcfTmFEk  reducing alcohol consumption   \n",
       "2  https://www.youtube.com/watch?v=PaSKcfTmFEk  reducing alcohol consumption   \n",
       "3  https://www.youtube.com/watch?v=PaSKcfTmFEk  reducing alcohol consumption   \n",
       "4  https://www.youtube.com/watch?v=PaSKcfTmFEk  reducing alcohol consumption   \n",
       "\n",
       "   utterance_id interlocutor timestamp  \\\n",
       "0             0    therapist  00:00:13   \n",
       "1             1       client  00:00:24   \n",
       "2             2    therapist  00:00:25   \n",
       "3             3       client  00:00:34   \n",
       "4             4    therapist  00:00:34   \n",
       "\n",
       "                                      utterance_text main_therapist_behaviour  \\\n",
       "0  Thanks for filling it out. We give this form t...                 question   \n",
       "1                                              Sure.                      NaN   \n",
       "2  So, let's see. It looks that you put-- You dri...          therapist_input   \n",
       "3                                            Mm-hmm.                      NaN   \n",
       "4  -and you usually have three to four drinks whe...          therapist_input   \n",
       "\n",
       "  client_talk_type  \n",
       "0              NaN  \n",
       "1          neutral  \n",
       "2              NaN  \n",
       "3          neutral  \n",
       "4              NaN  "
      ]
     },
     "execution_count": 2,
     "metadata": {},
     "output_type": "execute_result"
    }
   ],
   "source": [
    "df = pd.read_csv('../dmdlassignment2/AnnoMI/dataset.csv')\n",
    "df.head()"
   ]
  },
  {
   "cell_type": "markdown",
   "metadata": {},
   "source": [
    "# Data Cleaning and Preprocessing"
   ]
  },
  {
   "cell_type": "code",
   "execution_count": 3,
   "metadata": {},
   "outputs": [],
   "source": [
    "import string\n",
    "import re\n",
    "\n",
    "stop_words = set(stopwords.words('english'))\n",
    "\n",
    "def remove_punctuation(text):\n",
    "    return text.translate(str.maketrans('', '', string.punctuation))\n",
    "\n",
    "def tokenize(text):\n",
    "    split=re.split(\"\\W+\",text.lower()) \n",
    "    return split\n",
    "\n",
    "def remove_stopwords(text):\n",
    "    text=[word for word in text if word not in stop_words]\n",
    "    return text\n",
    "\n",
    "def lemmatize(text):\n",
    "    lemmatized_words = []\n",
    "    for word in text:\n",
    "        lemmatized_words.append(lemmatizer.lemmatize(word, pos=\"v\"))\n",
    "    return ' '.join(lemmatized_words)\n",
    "    "
   ]
  },
  {
   "cell_type": "code",
   "execution_count": 4,
   "metadata": {},
   "outputs": [
    {
     "data": {
      "text/html": [
       "<div>\n",
       "<style scoped>\n",
       "    .dataframe tbody tr th:only-of-type {\n",
       "        vertical-align: middle;\n",
       "    }\n",
       "\n",
       "    .dataframe tbody tr th {\n",
       "        vertical-align: top;\n",
       "    }\n",
       "\n",
       "    .dataframe thead th {\n",
       "        text-align: right;\n",
       "    }\n",
       "</style>\n",
       "<table border=\"1\" class=\"dataframe\">\n",
       "  <thead>\n",
       "    <tr style=\"text-align: right;\">\n",
       "      <th></th>\n",
       "      <th>utterance_text</th>\n",
       "      <th>quality</th>\n",
       "      <th>topic</th>\n",
       "    </tr>\n",
       "  </thead>\n",
       "  <tbody>\n",
       "    <tr>\n",
       "      <th>0</th>\n",
       "      <td>thank fill give form everyone year regardless ...</td>\n",
       "      <td>high</td>\n",
       "      <td>reducing alcohol consumption</td>\n",
       "    </tr>\n",
       "    <tr>\n",
       "      <th>1</th>\n",
       "      <td>hi john nice see tell things go well doc know ...</td>\n",
       "      <td>high</td>\n",
       "      <td>weight loss; diet</td>\n",
       "    </tr>\n",
       "    <tr>\n",
       "      <th>2</th>\n",
       "      <td>well see mymy wifes get lot lately try improve...</td>\n",
       "      <td>high</td>\n",
       "      <td>problem recognition</td>\n",
       "    </tr>\n",
       "    <tr>\n",
       "      <th>3</th>\n",
       "      <td>hi emily hi yeah something new oh oh yeah yeah...</td>\n",
       "      <td>high</td>\n",
       "      <td>better oral health</td>\n",
       "    </tr>\n",
       "    <tr>\n",
       "      <th>4</th>\n",
       "      <td>hi billy hi hi another session another session...</td>\n",
       "      <td>high</td>\n",
       "      <td>reducing recidivism</td>\n",
       "    </tr>\n",
       "  </tbody>\n",
       "</table>\n",
       "</div>"
      ],
      "text/plain": [
       "                                      utterance_text quality  \\\n",
       "0  thank fill give form everyone year regardless ...    high   \n",
       "1  hi john nice see tell things go well doc know ...    high   \n",
       "2  well see mymy wifes get lot lately try improve...    high   \n",
       "3  hi emily hi yeah something new oh oh yeah yeah...    high   \n",
       "4  hi billy hi hi another session another session...    high   \n",
       "\n",
       "                          topic  \n",
       "0  reducing alcohol consumption  \n",
       "1             weight loss; diet  \n",
       "2           problem recognition  \n",
       "3            better oral health  \n",
       "4           reducing recidivism  "
      ]
     },
     "execution_count": 4,
     "metadata": {},
     "output_type": "execute_result"
    }
   ],
   "source": [
    "transformed_df = pd.DataFrame(columns=['utterance_text', 'quality', 'topic'])\n",
    "\n",
    "for index, topic in enumerate(df['topic'].unique()):\n",
    "    tempdf = df[df['topic'] == topic]\n",
    "    quality = df[df['topic'] == topic]['mi_quality'].unique()[0]\n",
    "\n",
    "    # Apply an aggregation function\n",
    "    combined_text = ' '.join(tempdf['utterance_text'].apply(''.join))\n",
    "    transformed = lemmatize(remove_stopwords(tokenize(remove_punctuation(combined_text))))\n",
    "    new_data = pd.Series({'utterance_text': transformed, 'quality': quality, 'topic': topic})\n",
    "    transformed_df.loc[index] = new_data\n",
    "\n",
    "transformed_df.head()"
   ]
  },
  {
   "cell_type": "code",
   "execution_count": 5,
   "metadata": {},
   "outputs": [
    {
     "data": {
      "image/png": "[encoded data removed]",
      "text/plain": [
       "<Figure size 576x432 with 1 Axes>"
      ]
     },
     "metadata": {
      "needs_background": "light"
     },
     "output_type": "display_data"
    }
   ],
   "source": [
    "import matplotlib.pyplot as plt\n",
    "fig = plt.figure(figsize=(8,6))\n",
    "transformed_df.groupby('quality').utterance_text.count().plot.bar(ylim=0)\n",
    "plt.show()"
   ]
  },
  {
   "cell_type": "markdown",
   "metadata": {},
   "source": [
    "## Extract Labels"
   ]
  },
  {
   "cell_type": "code",
   "execution_count": 6,
   "metadata": {},
   "outputs": [],
   "source": [
    "transformed_df['quality_id'] = transformed_df['quality'].factorize()[0]\n",
    "# print(transformed_df[['quality', 'quality_id']].drop_duplicates().sort_values('quality_id').reset_index(drop=True))\n",
    "quality_id_df = transformed_df[['quality', 'quality_id']].drop_duplicates().sort_values('quality_id')\n",
    "quality_to_id = dict(quality_id_df.values)\n",
    "id_to_quality = dict(quality_id_df[['quality_id', 'quality']].values)"
   ]
  },
  {
   "cell_type": "code",
   "execution_count": 7,
   "metadata": {},
   "outputs": [
    {
     "name": "stdout",
     "output_type": "stream",
     "text": [
      "(44, 1756)\n"
     ]
    }
   ],
   "source": [
    "from sklearn.feature_extraction.text import TfidfVectorizer\n",
    "\n",
    "tfidf = TfidfVectorizer(sublinear_tf=True, min_df=5, norm='l2', encoding='latin-1', ngram_range=(1, 2), stop_words='english')\n",
    "features = tfidf.fit_transform(transformed_df.utterance_text).toarray()\n",
    "labels = transformed_df.quality_id\n",
    "print(features.shape)"
   ]
  },
  {
   "cell_type": "markdown",
   "metadata": {},
   "source": [
    "## Extract the features and labels from the dataset"
   ]
  },
  {
   "cell_type": "code",
   "execution_count": 8,
   "metadata": {},
   "outputs": [
    {
     "name": "stdout",
     "output_type": "stream",
     "text": [
      "Processing quality type high\n",
      "------------------------------------------------------------------\n",
      "# 'high':\n",
      "  . Most correlated unigrams:\n",
      ". throat\n",
      ". fair\n",
      ". medication\n",
      ". marijuana\n",
      ". sorry\n",
      "  . Most correlated bigrams:\n",
      ". know smoke\n",
      ". right ill\n",
      ". uh want\n",
      ". didnt want\n",
      ". im sorry\n",
      "Processing quality type low\n",
      "------------------------------------------------------------------\n",
      "# 'low':\n",
      "  . Most correlated unigrams:\n",
      ". throat\n",
      ". fair\n",
      ". medication\n",
      ". marijuana\n",
      ". sorry\n",
      "  . Most correlated bigrams:\n",
      ". know smoke\n",
      ". right ill\n",
      ". uh want\n",
      ". didnt want\n",
      ". im sorry\n"
     ]
    },
    {
     "name": "stderr",
     "output_type": "stream",
     "text": [
      "/Users/nandangrover/miniforge3/envs/venv/lib/python3.10/site-packages/sklearn/utils/deprecation.py:87: FutureWarning: Function get_feature_names is deprecated; get_feature_names is deprecated in 1.0 and will be removed in 1.2. Please use get_feature_names_out instead.\n",
      "  warnings.warn(msg, category=FutureWarning)\n",
      "/Users/nandangrover/miniforge3/envs/venv/lib/python3.10/site-packages/sklearn/utils/deprecation.py:87: FutureWarning: Function get_feature_names is deprecated; get_feature_names is deprecated in 1.0 and will be removed in 1.2. Please use get_feature_names_out instead.\n",
      "  warnings.warn(msg, category=FutureWarning)\n"
     ]
    }
   ],
   "source": [
    "from sklearn.feature_selection import chi2\n",
    "import numpy as np\n",
    "\n",
    "N = 5\n",
    "for quality_type, quality_type_id in sorted(quality_to_id.items()):\n",
    "  print('Processing quality type {}'.format(quality_type))\n",
    "  features_chi2 = chi2(features, labels == quality_type_id)\n",
    "  indices = np.argsort(features_chi2[0])\n",
    "  feature_names = np.array(tfidf.get_feature_names())[indices]\n",
    "  unigrams = [v for v in feature_names if len(v.split(' ')) == 1]\n",
    "  bigrams = [v for v in feature_names if len(v.split(' ')) == 2]\n",
    "  print(\"------------------------------------------------------------------\")\n",
    "  print(\"# '{}':\".format(quality_type))\n",
    "  print(\"  . Most correlated unigrams:\\n. {}\".format('\\n. '.join(unigrams[-N:])))\n",
    "  print(\"  . Most correlated bigrams:\\n. {}\".format('\\n. '.join(bigrams[-N:])))"
   ]
  },
  {
   "cell_type": "markdown",
   "metadata": {},
   "source": [
    "## Hyperparameter Tuning of the classifiers for the eventual Ensemble Classifier"
   ]
  },
  {
   "cell_type": "code",
   "execution_count": 12,
   "metadata": {},
   "outputs": [],
   "source": [
    "from sklearn.model_selection import GridSearchCV\n",
    "from sklearn.model_selection import train_test_split\n",
    "from sklearn.linear_model import LogisticRegression\n",
    "from sklearn.neighbors import KNeighborsClassifier\n",
    "from sklearn.ensemble import RandomForestClassifier\n",
    "from sklearn import svm\n",
    "from sklearn.svm import SVC\n",
    "import warnings\n",
    "warnings.filterwarnings('ignore')\n",
    "\n",
    "processed_data = {}\n",
    "def construct_model(dataframe):\n",
    "    # the list of classifiers to use\n",
    "    # use random_state for reproducibility\n",
    "    classifiers = [\n",
    "        LogisticRegression(random_state=0), \n",
    "        KNeighborsClassifier(), \n",
    "        RandomForestClassifier(random_state=0)\n",
    "    ]\n",
    "    \n",
    "    logregress_parameters = {\n",
    "        'penalty' : ['l2'],     \n",
    "        'C'       : np.logspace(-3,3,7),\n",
    "        'solver'  : ['newton-cg', 'lbfgs', 'liblinear'],\n",
    "    }\n",
    "    knn_parameters = {\n",
    "        'n_neighbors': np.arange(1, 25, 2)\n",
    "    }\n",
    "    randomforest_parameters = {\n",
    "        'n_estimators': [50, 100, 200, 300]\n",
    "    }\n",
    "    # stores all the paramete rs in a list \n",
    "    parameters = [\n",
    "        logregress_parameters, \n",
    "        knn_parameters, \n",
    "        randomforest_parameters\n",
    "    ]\n",
    "    # estimators is a list of tuple -> \n",
    "    #   [(name_of_classifier, tuned_estimator)]\n",
    "    processed_data['estimators'] = []\n",
    "    # iterate through each classifier and use GridSearchCV\n",
    "    for i, classifier in enumerate(classifiers):\n",
    "        clf = GridSearchCV(classifier,              # model\n",
    "                  param_grid = parameters[i], # hyperparameters\n",
    "                  scoring='accuracy',         # metric for scoring\n",
    "                  cv=10,\n",
    "                  n_jobs=-1, error_score='raise')\n",
    "        X_train, processed_data['X_test'], y_train, processed_data['y_test'], indices_train, processed_data['indices_test'] = train_test_split(features, labels, dataframe.index, test_size=0.33, random_state=0, shuffle=True)\n",
    "        clf.fit(X_train, y_train)\n",
    "        # add the clf to the estimators list\n",
    "        processed_data['estimators'].append((classifier.__class__.__name__, clf))  "
   ]
  },
  {
   "cell_type": "code",
   "execution_count": 13,
   "metadata": {},
   "outputs": [],
   "source": [
    "construct_model(transformed_df)"
   ]
  },
  {
   "cell_type": "markdown",
   "metadata": {},
   "source": [
    "# Accuracy for predicting client behaviour"
   ]
  },
  {
   "cell_type": "code",
   "execution_count": 14,
   "metadata": {},
   "outputs": [
    {
     "name": "stdout",
     "output_type": "stream",
     "text": [
      "LogisticRegression\n",
      "Tuned Hyperparameters : {'C': 0.001, 'penalty': 'l2', 'solver': 'newton-cg'}\n",
      "Accuracy : 0.9\n",
      "__________________________________________________________\n",
      "KNeighborsClassifier\n",
      "Tuned Hyperparameters : {'n_neighbors': 3}\n",
      "Accuracy : 0.9\n",
      "__________________________________________________________\n",
      "RandomForestClassifier\n",
      "Tuned Hyperparameters : {'n_estimators': 50}\n",
      "Accuracy : 0.9\n",
      "__________________________________________________________\n"
     ]
    }
   ],
   "source": [
    "for name, clf in processed_data['estimators']:\n",
    "    print(name)\n",
    "    print(\"Tuned Hyperparameters :\", clf.best_params_)\n",
    "    print(\"Accuracy :\", clf.best_score_)\n",
    "    print(\"__________________________________________________________\")"
   ]
  },
  {
   "cell_type": "markdown",
   "metadata": {},
   "source": [
    "## Ensemble Classifier"
   ]
  },
  {
   "cell_type": "code",
   "execution_count": 43,
   "metadata": {},
   "outputs": [
    {
     "name": "stderr",
     "output_type": "stream",
     "text": [
      "/Users/nandangrover/miniforge3/envs/venv/lib/python3.10/site-packages/sklearn/model_selection/_split.py:676: UserWarning: The least populated class in y has only 3 members, which is less than n_splits=10.\n",
      "  warnings.warn(\n",
      "/Users/nandangrover/miniforge3/envs/venv/lib/python3.10/site-packages/sklearn/model_selection/_split.py:676: UserWarning: The least populated class in y has only 3 members, which is less than n_splits=10.\n",
      "  warnings.warn(\n",
      "/Users/nandangrover/miniforge3/envs/venv/lib/python3.10/site-packages/sklearn/model_selection/_split.py:676: UserWarning: The least populated class in y has only 3 members, which is less than n_splits=10.\n",
      "  warnings.warn(\n"
     ]
    },
    {
     "data": {
      "text/plain": [
       "VotingClassifier(estimators=[('LogisticRegression',\n",
       "                              GridSearchCV(cv=10, error_score='raise',\n",
       "                                           estimator=LogisticRegression(random_state=0),\n",
       "                                           n_jobs=-1,\n",
       "                                           param_grid={'C': array([1.e-03, 1.e-02, 1.e-01, 1.e+00, 1.e+01, 1.e+02, 1.e+03]),\n",
       "                                                       'penalty': ['l2'],\n",
       "                                                       'solver': ['newton-cg',\n",
       "                                                                  'lbfgs',\n",
       "                                                                  'liblinear']},\n",
       "                                           scoring='accuracy')),\n",
       "                             ('KNeighborsClassifier',\n",
       "                              GridSearchCV(cv=10, error_...',\n",
       "                                           estimator=KNeighborsClassifier(),\n",
       "                                           n_jobs=-1,\n",
       "                                           param_grid={'n_neighbors': array([ 1,  3,  5,  7,  9, 11, 13, 15, 17, 19, 21, 23])},\n",
       "                                           scoring='accuracy')),\n",
       "                             ('RandomForestClassifier',\n",
       "                              GridSearchCV(cv=10, error_score='raise',\n",
       "                                           estimator=RandomForestClassifier(random_state=0),\n",
       "                                           n_jobs=-1,\n",
       "                                           param_grid={'n_estimators': [50, 100,\n",
       "                                                                        200,\n",
       "                                                                        300]},\n",
       "                                           scoring='accuracy'))],\n",
       "                 n_jobs=-1, weights=[1, 1, 1])"
      ]
     },
     "execution_count": 43,
     "metadata": {},
     "output_type": "execute_result"
    }
   ],
   "source": [
    "from sklearn.ensemble import VotingClassifier\n",
    "\n",
    "ensemble = VotingClassifier(processed_data['estimators'], \n",
    "                            voting='hard', \n",
    "                            weights=[1,1,1], n_jobs=-1)  # n-estimators\n",
    "\n",
    "X_train, processed_data['X_test'], y_train, processed_data['y_test'], indices_train, indices_test = train_test_split(features, labels, transformed_df.index, test_size=0.33, random_state=0, shuffle=True)\n",
    "\n",
    "ensemble.fit(X_train, y_train)"
   ]
  },
  {
   "cell_type": "markdown",
   "metadata": {},
   "source": [
    "## Accuracy with the Ensemble Classifier reduces by around 3% each"
   ]
  },
  {
   "cell_type": "code",
   "execution_count": 44,
   "metadata": {},
   "outputs": [
    {
     "name": "stdout",
     "output_type": "stream",
     "text": [
      "Ensemble classifier Accuracy: 0.8666666666666667\n"
     ]
    }
   ],
   "source": [
    "\n",
    "accuracy = ensemble.score(processed_data['X_test'], processed_data['y_test'])\n",
    "print(\"Ensemble classifier Accuracy:\", accuracy)"
   ]
  },
  {
   "cell_type": "markdown",
   "metadata": {},
   "source": [
    "## Heatmap for accuracy with tuned hyperparameters for Logistic Regression which gave the best accuracy"
   ]
  },
  {
   "cell_type": "code",
   "execution_count": 45,
   "metadata": {},
   "outputs": [
    {
     "data": {
      "image/png": "[encoded data removed]",
      "text/plain": [
       "<Figure size 720x720 with 2 Axes>"
      ]
     },
     "metadata": {
      "needs_background": "light"
     },
     "output_type": "display_data"
    }
   ],
   "source": [
    "import seaborn as sns\n",
    "from sklearn.metrics import confusion_matrix\n",
    "\n",
    "processed_data['y_pred'] = processed_data['estimators'][0][1].predict(processed_data['X_test'])\n",
    "processed_data['conf_mat'] = confusion_matrix(processed_data['y_test'], processed_data['y_pred'])\n",
    "fig, ax = plt.subplots(figsize=(10,10))\n",
    "sns.heatmap(processed_data['conf_mat'], annot=True, fmt='d',\n",
    "            xticklabels=quality_id_df.quality.values, yticklabels=quality_id_df.quality.values)\n",
    "plt.ylabel('Actual')\n",
    "plt.xlabel('Predicted')\n",
    "plt.show()"
   ]
  },
  {
   "cell_type": "markdown",
   "metadata": {},
   "source": [
    "## List wrong predictions"
   ]
  },
  {
   "cell_type": "code",
   "execution_count": 41,
   "metadata": {},
   "outputs": [],
   "source": [
    "from IPython.display import display\n",
    "\n",
    "for predicted in quality_id_df.quality_id:\n",
    "    for actual in quality_id_df.quality_id:\n",
    "      if predicted != actual and processed_data['conf_mat'][actual, predicted] >= 10:\n",
    "        print(\"'{}' predicted as '{}' : {} examples.\".format(id_to_behaviour[actual], id_to_behaviour[predicted], processed_data['conf_mat'][actual, predicted]))\n",
    "        display(transformed_df.loc[processed_data['indices_test'][(processed_data['y_test'] == actual) & (processed_data['y_pred'] == predicted)]][['quality', 'utterance_text']])\n",
    "        print('')"
   ]
  },
  {
   "cell_type": "markdown",
   "metadata": {},
   "source": [
    "## Model Evaluation"
   ]
  },
  {
   "cell_type": "code",
   "execution_count": 42,
   "metadata": {},
   "outputs": [
    {
     "name": "stdout",
     "output_type": "stream",
     "text": [
      "              precision    recall  f1-score   support\n",
      "\n",
      "        high       0.89      1.00      0.94         8\n",
      "         low       0.00      0.00      0.00         1\n",
      "\n",
      "    accuracy                           0.89         9\n",
      "   macro avg       0.44      0.50      0.47         9\n",
      "weighted avg       0.79      0.89      0.84         9\n",
      "\n"
     ]
    }
   ],
   "source": [
    "from sklearn import metrics\n",
    "\n",
    "print(metrics.classification_report(processed_data['y_test'], processed_data['y_pred'], target_names=transformed_df['quality'].unique()))\n",
    "    "
   ]
  }
 ],
 "metadata": {
  "interpreter": {
   "hash": "16153bd9154a0fa07b54723d024a7bb641306c2c574c0477798337b885b0e450"
  },
  "kernelspec": {
   "display_name": "Python 3.10.4 ('venv')",
   "language": "python",
   "name": "python3"
  },
  "language_info": {
   "codemirror_mode": {
    "name": "ipython",
    "version": 3
   },
   "file_extension": ".py",
   "mimetype": "text/x-python",
   "name": "python",
   "nbconvert_exporter": "python",
   "pygments_lexer": "ipython3",
   "version": "3.10.4"
  },
  "orig_nbformat": 4
 },
 "nbformat": 4,
 "nbformat_minor": 2
}
