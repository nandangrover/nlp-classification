{
 "cells": [
  {
   "cell_type": "code",
   "execution_count": 1,
   "metadata": {},
   "outputs": [],
   "source": [
    "import pandas as pd\n",
    "import nlpaug.augmenter.word as naw\n",
    "from sklearn.feature_extraction.text import CountVectorizer\n",
    "from nltk.stem import WordNetLemmatizer\n",
    "from nltk.tokenize import word_tokenize\n",
    "from nltk.stem import PorterStemmer\n",
    "from nltk.corpus import stopwords\n",
    "import gensim\n",
    "\n",
    "stemmer = PorterStemmer()\n",
    "lemmatizer = WordNetLemmatizer()\n",
    "pd.options.mode.chained_assignment = None"
   ]
  },
  {
   "cell_type": "code",
   "execution_count": 2,
   "metadata": {},
   "outputs": [
    {
     "data": {
      "text/html": [
       "<div>\n",
       "<style scoped>\n",
       "    .dataframe tbody tr th:only-of-type {\n",
       "        vertical-align: middle;\n",
       "    }\n",
       "\n",
       "    .dataframe tbody tr th {\n",
       "        vertical-align: top;\n",
       "    }\n",
       "\n",
       "    .dataframe thead th {\n",
       "        text-align: right;\n",
       "    }\n",
       "</style>\n",
       "<table border=\"1\" class=\"dataframe\">\n",
       "  <thead>\n",
       "    <tr style=\"text-align: right;\">\n",
       "      <th></th>\n",
       "      <th>transcript_id</th>\n",
       "      <th>mi_quality</th>\n",
       "      <th>video_title</th>\n",
       "      <th>video_url</th>\n",
       "      <th>topic</th>\n",
       "      <th>utterance_id</th>\n",
       "      <th>interlocutor</th>\n",
       "      <th>timestamp</th>\n",
       "      <th>utterance_text</th>\n",
       "      <th>main_therapist_behaviour</th>\n",
       "      <th>client_talk_type</th>\n",
       "    </tr>\n",
       "  </thead>\n",
       "  <tbody>\n",
       "    <tr>\n",
       "      <th>0</th>\n",
       "      <td>0</td>\n",
       "      <td>high</td>\n",
       "      <td>NEW VIDEO: Brief intervention: \"Barbara\"</td>\n",
       "      <td>https://www.youtube.com/watch?v=PaSKcfTmFEk</td>\n",
       "      <td>reducing alcohol consumption</td>\n",
       "      <td>0</td>\n",
       "      <td>therapist</td>\n",
       "      <td>00:00:13</td>\n",
       "      <td>Thanks for filling it out. We give this form t...</td>\n",
       "      <td>question</td>\n",
       "      <td>NaN</td>\n",
       "    </tr>\n",
       "    <tr>\n",
       "      <th>1</th>\n",
       "      <td>0</td>\n",
       "      <td>high</td>\n",
       "      <td>NEW VIDEO: Brief intervention: \"Barbara\"</td>\n",
       "      <td>https://www.youtube.com/watch?v=PaSKcfTmFEk</td>\n",
       "      <td>reducing alcohol consumption</td>\n",
       "      <td>1</td>\n",
       "      <td>client</td>\n",
       "      <td>00:00:24</td>\n",
       "      <td>Sure.</td>\n",
       "      <td>NaN</td>\n",
       "      <td>neutral</td>\n",
       "    </tr>\n",
       "    <tr>\n",
       "      <th>2</th>\n",
       "      <td>0</td>\n",
       "      <td>high</td>\n",
       "      <td>NEW VIDEO: Brief intervention: \"Barbara\"</td>\n",
       "      <td>https://www.youtube.com/watch?v=PaSKcfTmFEk</td>\n",
       "      <td>reducing alcohol consumption</td>\n",
       "      <td>2</td>\n",
       "      <td>therapist</td>\n",
       "      <td>00:00:25</td>\n",
       "      <td>So, let's see. It looks that you put-- You dri...</td>\n",
       "      <td>therapist_input</td>\n",
       "      <td>NaN</td>\n",
       "    </tr>\n",
       "    <tr>\n",
       "      <th>3</th>\n",
       "      <td>0</td>\n",
       "      <td>high</td>\n",
       "      <td>NEW VIDEO: Brief intervention: \"Barbara\"</td>\n",
       "      <td>https://www.youtube.com/watch?v=PaSKcfTmFEk</td>\n",
       "      <td>reducing alcohol consumption</td>\n",
       "      <td>3</td>\n",
       "      <td>client</td>\n",
       "      <td>00:00:34</td>\n",
       "      <td>Mm-hmm.</td>\n",
       "      <td>NaN</td>\n",
       "      <td>neutral</td>\n",
       "    </tr>\n",
       "    <tr>\n",
       "      <th>4</th>\n",
       "      <td>0</td>\n",
       "      <td>high</td>\n",
       "      <td>NEW VIDEO: Brief intervention: \"Barbara\"</td>\n",
       "      <td>https://www.youtube.com/watch?v=PaSKcfTmFEk</td>\n",
       "      <td>reducing alcohol consumption</td>\n",
       "      <td>4</td>\n",
       "      <td>therapist</td>\n",
       "      <td>00:00:34</td>\n",
       "      <td>-and you usually have three to four drinks whe...</td>\n",
       "      <td>therapist_input</td>\n",
       "      <td>NaN</td>\n",
       "    </tr>\n",
       "  </tbody>\n",
       "</table>\n",
       "</div>"
      ],
      "text/plain": [
       "   transcript_id mi_quality                               video_title  \\\n",
       "0              0       high  NEW VIDEO: Brief intervention: \"Barbara\"   \n",
       "1              0       high  NEW VIDEO: Brief intervention: \"Barbara\"   \n",
       "2              0       high  NEW VIDEO: Brief intervention: \"Barbara\"   \n",
       "3              0       high  NEW VIDEO: Brief intervention: \"Barbara\"   \n",
       "4              0       high  NEW VIDEO: Brief intervention: \"Barbara\"   \n",
       "\n",
       "                                     video_url                         topic  \\\n",
       "0  https://www.youtube.com/watch?v=PaSKcfTmFEk  reducing alcohol consumption   \n",
       "1  https://www.youtube.com/watch?v=PaSKcfTmFEk  reducing alcohol consumption   \n",
       "2  https://www.youtube.com/watch?v=PaSKcfTmFEk  reducing alcohol consumption   \n",
       "3  https://www.youtube.com/watch?v=PaSKcfTmFEk  reducing alcohol consumption   \n",
       "4  https://www.youtube.com/watch?v=PaSKcfTmFEk  reducing alcohol consumption   \n",
       "\n",
       "   utterance_id interlocutor timestamp  \\\n",
       "0             0    therapist  00:00:13   \n",
       "1             1       client  00:00:24   \n",
       "2             2    therapist  00:00:25   \n",
       "3             3       client  00:00:34   \n",
       "4             4    therapist  00:00:34   \n",
       "\n",
       "                                      utterance_text main_therapist_behaviour  \\\n",
       "0  Thanks for filling it out. We give this form t...                 question   \n",
       "1                                              Sure.                      NaN   \n",
       "2  So, let's see. It looks that you put-- You dri...          therapist_input   \n",
       "3                                            Mm-hmm.                      NaN   \n",
       "4  -and you usually have three to four drinks whe...          therapist_input   \n",
       "\n",
       "  client_talk_type  \n",
       "0              NaN  \n",
       "1          neutral  \n",
       "2              NaN  \n",
       "3          neutral  \n",
       "4              NaN  "
      ]
     },
     "execution_count": 2,
     "metadata": {},
     "output_type": "execute_result"
    }
   ],
   "source": [
    "df = pd.read_csv('../dmdlassignment2/AnnoMI/dataset.csv')\n",
    "df.head()"
   ]
  },
  {
   "cell_type": "markdown",
   "metadata": {},
   "source": [
    "# Data Cleaning and Preprocessing\n"
   ]
  },
  {
   "cell_type": "code",
   "execution_count": 3,
   "metadata": {},
   "outputs": [],
   "source": [
    "import string\n",
    "import re\n",
    "\n",
    "stop_words = set(stopwords.words('english'))\n",
    "\n",
    "\n",
    "def remove_punctuation(text):\n",
    "    return text.translate(str.maketrans('', '', string.punctuation))\n",
    "\n",
    "\n",
    "def tokenize(text):\n",
    "    split = re.split(\"\\W+\", text.lower())\n",
    "    return split\n",
    "\n",
    "\n",
    "def remove_stopwords(text):\n",
    "    text = [word for word in text if word not in stop_words]\n",
    "    return text\n",
    "\n",
    "\n",
    "def lemmatize(text):\n",
    "    lemmatized_words = []\n",
    "    for word in text:\n",
    "        lemmatized_words.append(lemmatizer.lemmatize(word, pos=\"v\"))\n",
    "    return ' '.join(lemmatized_words)\n"
   ]
  },
  {
   "cell_type": "code",
   "execution_count": 4,
   "metadata": {},
   "outputs": [],
   "source": [
    "# Remove null values\n",
    "def transform(dataframe):\n",
    "    for index, row in dataframe.iterrows():\n",
    "        dataframe['avg_utterance_length'][index] = len(row['utterance_text'])\n",
    "        words = word_tokenize(row['utterance_text'])\n",
    "\n",
    "        dataframe['utterance_text'][index] = lemmatize(\n",
    "            remove_stopwords(tokenize(remove_punctuation(row['utterance_text']))))\n",
    "\n",
    "        if (pd.isnull(row['client_talk_type'])):\n",
    "            dataframe['behaviour_type'][index] = row['main_therapist_behaviour']\n",
    "        else:\n",
    "            dataframe['behaviour_type'][index] = row['client_talk_type']\n"
   ]
  },
  {
   "cell_type": "code",
   "execution_count": 5,
   "metadata": {},
   "outputs": [
    {
     "data": {
      "text/html": [
       "<div>\n",
       "<style scoped>\n",
       "    .dataframe tbody tr th:only-of-type {\n",
       "        vertical-align: middle;\n",
       "    }\n",
       "\n",
       "    .dataframe tbody tr th {\n",
       "        vertical-align: top;\n",
       "    }\n",
       "\n",
       "    .dataframe thead th {\n",
       "        text-align: right;\n",
       "    }\n",
       "</style>\n",
       "<table border=\"1\" class=\"dataframe\">\n",
       "  <thead>\n",
       "    <tr style=\"text-align: right;\">\n",
       "      <th></th>\n",
       "      <th>mi_quality</th>\n",
       "      <th>interlocutor</th>\n",
       "      <th>utterance_text</th>\n",
       "      <th>main_therapist_behaviour</th>\n",
       "      <th>client_talk_type</th>\n",
       "      <th>behaviour_type</th>\n",
       "      <th>avg_utterance_length</th>\n",
       "    </tr>\n",
       "  </thead>\n",
       "  <tbody>\n",
       "    <tr>\n",
       "      <th>1</th>\n",
       "      <td>high</td>\n",
       "      <td>client</td>\n",
       "      <td>sure</td>\n",
       "      <td>NaN</td>\n",
       "      <td>neutral</td>\n",
       "      <td>neutral</td>\n",
       "      <td>5</td>\n",
       "    </tr>\n",
       "    <tr>\n",
       "      <th>3</th>\n",
       "      <td>high</td>\n",
       "      <td>client</td>\n",
       "      <td>mmhmm</td>\n",
       "      <td>NaN</td>\n",
       "      <td>neutral</td>\n",
       "      <td>neutral</td>\n",
       "      <td>7</td>\n",
       "    </tr>\n",
       "    <tr>\n",
       "      <th>5</th>\n",
       "      <td>high</td>\n",
       "      <td>client</td>\n",
       "      <td>usually three drink glass wine</td>\n",
       "      <td>NaN</td>\n",
       "      <td>neutral</td>\n",
       "      <td>neutral</td>\n",
       "      <td>41</td>\n",
       "    </tr>\n",
       "    <tr>\n",
       "      <th>7</th>\n",
       "      <td>high</td>\n",
       "      <td>client</td>\n",
       "      <td>something like</td>\n",
       "      <td>NaN</td>\n",
       "      <td>neutral</td>\n",
       "      <td>neutral</td>\n",
       "      <td>20</td>\n",
       "    </tr>\n",
       "    <tr>\n",
       "      <th>9</th>\n",
       "      <td>high</td>\n",
       "      <td>client</td>\n",
       "      <td>okay</td>\n",
       "      <td>NaN</td>\n",
       "      <td>neutral</td>\n",
       "      <td>neutral</td>\n",
       "      <td>5</td>\n",
       "    </tr>\n",
       "  </tbody>\n",
       "</table>\n",
       "</div>"
      ],
      "text/plain": [
       "  mi_quality interlocutor                  utterance_text  \\\n",
       "1       high       client                            sure   \n",
       "3       high       client                           mmhmm   \n",
       "5       high       client  usually three drink glass wine   \n",
       "7       high       client                  something like   \n",
       "9       high       client                            okay   \n",
       "\n",
       "  main_therapist_behaviour client_talk_type behaviour_type  \\\n",
       "1                      NaN          neutral        neutral   \n",
       "3                      NaN          neutral        neutral   \n",
       "5                      NaN          neutral        neutral   \n",
       "7                      NaN          neutral        neutral   \n",
       "9                      NaN          neutral        neutral   \n",
       "\n",
       "   avg_utterance_length  \n",
       "1                     5  \n",
       "3                     7  \n",
       "5                    41  \n",
       "7                    20  \n",
       "9                     5  "
      ]
     },
     "execution_count": 5,
     "metadata": {},
     "output_type": "execute_result"
    }
   ],
   "source": [
    "col = ['mi_quality', 'interlocutor', 'utterance_text',\n",
    "       'main_therapist_behaviour', 'client_talk_type']\n",
    "df = df[col]\n",
    "df.insert(loc=5,\n",
    "          column='avg_utterance_length',\n",
    "          value=0)\n",
    "df.insert(loc=5,\n",
    "          column='behaviour_type',\n",
    "          value='')\n",
    "\n",
    "df_therapist = df[df['interlocutor'] == 'therapist']\n",
    "df_client = df[df['interlocutor'] == 'client']\n",
    "\n",
    "transform(df_therapist)\n",
    "transform(df_client)\n",
    "\n",
    "df_therapist.head()\n",
    "df_client.head()\n"
   ]
  },
  {
   "cell_type": "code",
   "execution_count": 6,
   "metadata": {},
   "outputs": [
    {
     "data": {
      "image/png": "[encoded data removed]",
      "text/plain": [
       "<Figure size 576x432 with 1 Axes>"
      ]
     },
     "metadata": {
      "needs_background": "light"
     },
     "output_type": "display_data"
    },
    {
     "data": {
      "image/png": "[encoded data removed]",
      "text/plain": [
       "<Figure size 576x432 with 1 Axes>"
      ]
     },
     "metadata": {
      "needs_background": "light"
     },
     "output_type": "display_data"
    },
    {
     "data": {
      "image/png": "[encoded data removed]",
      "text/plain": [
       "<Figure size 576x432 with 1 Axes>"
      ]
     },
     "metadata": {
      "needs_background": "light"
     },
     "output_type": "display_data"
    }
   ],
   "source": [
    "import matplotlib.pyplot as plt\n",
    "fig = plt.figure(figsize=(8, 6))\n",
    "df_therapist.groupby('behaviour_type').interlocutor.count().plot.bar(ylim=0)\n",
    "plt.show()\n",
    "\n",
    "fig = plt.figure(figsize=(8, 6))\n",
    "df_client.groupby('behaviour_type').interlocutor.count().plot.bar(ylim=0)\n",
    "plt.show()\n",
    "\n",
    "fig = plt.figure(figsize=(8, 6))\n",
    "df.groupby('interlocutor').avg_utterance_length.count().plot.bar(ylim=0)\n",
    "plt.show()\n"
   ]
  },
  {
   "cell_type": "code",
   "execution_count": 6,
   "metadata": {},
   "outputs": [],
   "source": [
    "processed_data = {'therapist': {}, 'client': {}}\n",
    "\n",
    "\n",
    "def extract_labels(dataframe, key):\n",
    "    dataframe['behaviour_type_id'] = dataframe['behaviour_type'].factorize()[0]\n",
    "    processed_data[key]['behaviour_type_id_df'] = dataframe[['behaviour_type',\n",
    "                                                             'behaviour_type_id']].drop_duplicates().sort_values('behaviour_type_id')\n",
    "    processed_data[key]['behaviour_to_id'] = dict(\n",
    "        processed_data[key]['behaviour_type_id_df'].values)\n",
    "    processed_data[key]['id_to_behaviour'] = dict(processed_data[key]['behaviour_type_id_df'][[\n",
    "                                                  'behaviour_type_id', 'behaviour_type']].values)\n"
   ]
  },
  {
   "cell_type": "code",
   "execution_count": 7,
   "metadata": {},
   "outputs": [],
   "source": [
    "extract_labels(df_therapist, 'therapist')\n",
    "extract_labels(df_client, 'client')\n"
   ]
  },
  {
   "cell_type": "code",
   "execution_count": 8,
   "metadata": {},
   "outputs": [],
   "source": [
    "from sklearn.feature_extraction.text import TfidfVectorizer\n",
    "\n",
    "\n",
    "def data_shape(dataframe, key):\n",
    "    processed_data[key]['tfidf'] = TfidfVectorizer(\n",
    "        sublinear_tf=True, min_df=5, norm='l2', encoding='latin-1', ngram_range=(1, 2), stop_words='english')\n",
    "    processed_data[key]['features'] = processed_data[key]['tfidf'].fit_transform(\n",
    "        dataframe.utterance_text).toarray()\n",
    "    processed_data[key]['labels'] = dataframe.behaviour_type_id\n",
    "    print(processed_data[key]['features'].shape)\n"
   ]
  },
  {
   "cell_type": "code",
   "execution_count": 9,
   "metadata": {},
   "outputs": [
    {
     "name": "stdout",
     "output_type": "stream",
     "text": [
      "(4882, 1369)\n",
      "(4817, 1236)\n"
     ]
    }
   ],
   "source": [
    "data_shape(df_therapist, 'therapist')\n",
    "data_shape(df_client, 'client')\n"
   ]
  },
  {
   "cell_type": "markdown",
   "metadata": {},
   "source": [
    "## Extract the features and labels from the dataset\n"
   ]
  },
  {
   "cell_type": "code",
   "execution_count": 10,
   "metadata": {},
   "outputs": [],
   "source": [
    "from sklearn.feature_selection import chi2\n",
    "import numpy as np\n",
    "\n",
    "\n",
    "def extract_features(dataframe, key):\n",
    "    N = 2\n",
    "    for behaviour_type, behaviour_type_id in sorted(processed_data[key]['behaviour_to_id'].items()):\n",
    "        features_chi2 = chi2(\n",
    "            processed_data[key]['features'], processed_data[key]['labels'] == behaviour_type_id)\n",
    "        indices = np.argsort(features_chi2[0])\n",
    "        feature_names = np.array(\n",
    "            processed_data[key]['tfidf'].get_feature_names())[indices]\n",
    "        unigrams = [v for v in feature_names if len(v.split(' ')) == 1]\n",
    "        bigrams = [v for v in feature_names if len(v.split(' ')) == 2]\n",
    "        print(\"------------------------------------------------------------------\")\n",
    "        print(key)\n",
    "        print(\"------------------------------------------------------------------\")\n",
    "        print(\"# '{}':\".format(behaviour_type))\n",
    "        print(\"  . Most correlated unigrams:\\n. {}\".format(\n",
    "            '\\n. '.join(unigrams[-N:])))\n",
    "        print(\"  . Most correlated bigrams:\\n. {}\".format(\n",
    "            '\\n. '.join(bigrams[-N:])))\n"
   ]
  },
  {
   "cell_type": "code",
   "execution_count": 11,
   "metadata": {},
   "outputs": [
    {
     "name": "stderr",
     "output_type": "stream",
     "text": [
      "/Users/nandangrover/miniforge3/envs/deeplearning_2/lib/python3.9/site-packages/sklearn/utils/deprecation.py:87: FutureWarning: Function get_feature_names is deprecated; get_feature_names is deprecated in 1.0 and will be removed in 1.2. Please use get_feature_names_out instead.\n",
      "  warnings.warn(msg, category=FutureWarning)\n",
      "/Users/nandangrover/miniforge3/envs/deeplearning_2/lib/python3.9/site-packages/sklearn/utils/deprecation.py:87: FutureWarning: Function get_feature_names is deprecated; get_feature_names is deprecated in 1.0 and will be removed in 1.2. Please use get_feature_names_out instead.\n",
      "  warnings.warn(msg, category=FutureWarning)\n",
      "/Users/nandangrover/miniforge3/envs/deeplearning_2/lib/python3.9/site-packages/sklearn/utils/deprecation.py:87: FutureWarning: Function get_feature_names is deprecated; get_feature_names is deprecated in 1.0 and will be removed in 1.2. Please use get_feature_names_out instead.\n",
      "  warnings.warn(msg, category=FutureWarning)\n",
      "/Users/nandangrover/miniforge3/envs/deeplearning_2/lib/python3.9/site-packages/sklearn/utils/deprecation.py:87: FutureWarning: Function get_feature_names is deprecated; get_feature_names is deprecated in 1.0 and will be removed in 1.2. Please use get_feature_names_out instead.\n",
      "  warnings.warn(msg, category=FutureWarning)\n",
      "/Users/nandangrover/miniforge3/envs/deeplearning_2/lib/python3.9/site-packages/sklearn/utils/deprecation.py:87: FutureWarning: Function get_feature_names is deprecated; get_feature_names is deprecated in 1.0 and will be removed in 1.2. Please use get_feature_names_out instead.\n",
      "  warnings.warn(msg, category=FutureWarning)\n",
      "/Users/nandangrover/miniforge3/envs/deeplearning_2/lib/python3.9/site-packages/sklearn/utils/deprecation.py:87: FutureWarning: Function get_feature_names is deprecated; get_feature_names is deprecated in 1.0 and will be removed in 1.2. Please use get_feature_names_out instead.\n",
      "  warnings.warn(msg, category=FutureWarning)\n"
     ]
    },
    {
     "name": "stdout",
     "output_type": "stream",
     "text": [
      "------------------------------------------------------------------\n",
      "therapist\n",
      "------------------------------------------------------------------\n",
      "# 'other':\n",
      "  . Most correlated unigrams:\n",
      ". yeah\n",
      ". mmhmm\n",
      "  . Most correlated bigrams:\n",
      ". sound like\n",
      ". yeah yeah\n",
      "------------------------------------------------------------------\n",
      "therapist\n",
      "------------------------------------------------------------------\n",
      "# 'question':\n",
      "  . Most correlated unigrams:\n",
      ". yeah\n",
      ". mmhmm\n",
      "  . Most correlated bigrams:\n",
      ". scale 10\n",
      ". tell little\n",
      "------------------------------------------------------------------\n",
      "therapist\n",
      "------------------------------------------------------------------\n",
      "# 'reflection':\n",
      "  . Most correlated unigrams:\n",
      ". yeah\n",
      ". mmhmm\n",
      "  . Most correlated bigrams:\n",
      ". feel like\n",
      ". sound like\n",
      "------------------------------------------------------------------\n",
      "therapist\n",
      "------------------------------------------------------------------\n",
      "# 'therapist_input':\n",
      "  . Most correlated unigrams:\n",
      ". know\n",
      ". mmhmm\n",
      "  . Most correlated bigrams:\n",
      ". chronic inhaler\n",
      ". drink week\n",
      "------------------------------------------------------------------\n",
      "client\n",
      "------------------------------------------------------------------\n",
      "# 'change':\n",
      "  . Most correlated unigrams:\n",
      ". yeah\n",
      ". mmhmm\n",
      "  . Most correlated bigrams:\n",
      ". dont wanna\n",
      ". id like\n",
      "------------------------------------------------------------------\n",
      "client\n",
      "------------------------------------------------------------------\n",
      "# 'neutral':\n",
      "  . Most correlated unigrams:\n",
      ". mmhmm\n",
      ". yeah\n",
      "  . Most correlated bigrams:\n",
      ". dont want\n",
      ". dont wanna\n",
      "------------------------------------------------------------------\n",
      "client\n",
      "------------------------------------------------------------------\n",
      "# 'sustain':\n",
      "  . Most correlated unigrams:\n",
      ". relax\n",
      ". yeah\n",
      "  . Most correlated bigrams:\n",
      ". dont time\n",
      ". ii dont\n"
     ]
    },
    {
     "name": "stderr",
     "output_type": "stream",
     "text": [
      "/Users/nandangrover/miniforge3/envs/deeplearning_2/lib/python3.9/site-packages/sklearn/utils/deprecation.py:87: FutureWarning: Function get_feature_names is deprecated; get_feature_names is deprecated in 1.0 and will be removed in 1.2. Please use get_feature_names_out instead.\n",
      "  warnings.warn(msg, category=FutureWarning)\n"
     ]
    }
   ],
   "source": [
    "extract_features(df_therapist, 'therapist')\n",
    "extract_features(df_client, 'client')\n"
   ]
  },
  {
   "cell_type": "markdown",
   "metadata": {},
   "source": [
    "## BERT Transformer Model\n",
    "\n",
    "Overfitting was reduced by increasing Dropout rate and introducing Early Stopping."
   ]
  },
  {
   "cell_type": "code",
   "execution_count": 12,
   "metadata": {},
   "outputs": [
    {
     "name": "stdout",
     "output_type": "stream",
     "text": [
      "Metal device set to: Apple M1 Pro\n",
      "\n",
      "systemMemory: 16.00 GB\n",
      "maxCacheSize: 5.33 GB\n",
      "\n"
     ]
    },
    {
     "name": "stderr",
     "output_type": "stream",
     "text": [
      "2022-05-15 15:21:51.170313: I tensorflow/core/common_runtime/pluggable_device/pluggable_device_factory.cc:305] Could not identify NUMA node of platform GPU ID 0, defaulting to 0. Your kernel may not have been built with NUMA support.\n",
      "2022-05-15 15:21:51.170431: I tensorflow/core/common_runtime/pluggable_device/pluggable_device_factory.cc:271] Created TensorFlow device (/job:localhost/replica:0/task:0/device:GPU:0 with 0 MB memory) -> physical PluggableDevice (device: 0, name: METAL, pci bus id: <undefined>)\n",
      "Some layers from the model checkpoint at bert-base-cased were not used when initializing TFBertModel: ['nsp___cls', 'mlm___cls']\n",
      "- This IS expected if you are initializing TFBertModel from the checkpoint of a model trained on another task or with another architecture (e.g. initializing a BertForSequenceClassification model from a BertForPreTraining model).\n",
      "- This IS NOT expected if you are initializing TFBertModel from the checkpoint of a model that you expect to be exactly identical (initializing a BertForSequenceClassification model from a BertForSequenceClassification model).\n",
      "All the layers of TFBertModel were initialized from the model checkpoint at bert-base-cased.\n",
      "If your task is similar to the task the model of the checkpoint was trained on, you can already use TFBertModel for predictions without further training.\n"
     ]
    }
   ],
   "source": [
    "import transformers\n",
    "from tensorflow.keras.utils import to_categorical\n",
    "from transformers import AutoTokenizer, TFBertModel\n",
    "import tensorflow as tf\n",
    "from tensorflow.keras.optimizers import Adam\n",
    "from tensorflow.keras.callbacks import EarlyStopping\n",
    "from tensorflow.keras.initializers import TruncatedNormal\n",
    "from tensorflow.keras.losses import CategoricalCrossentropy\n",
    "from tensorflow.keras.metrics import CategoricalAccuracy\n",
    "from tensorflow.keras.utils import to_categorical\n",
    "from tensorflow.keras.layers import Input, Dense\n",
    "from sklearn.model_selection import train_test_split\n",
    "\n",
    "tokenizer = AutoTokenizer.from_pretrained('bert-base-cased')\n",
    "bert = TFBertModel.from_pretrained('bert-base-cased')\n",
    "\n",
    "\n",
    "def construct_model(dataframe, key, shape):\n",
    "    x_train, processed_data[key]['x_test'], y_train, processed_data[key]['y_test'], indices_train, processed_data[key]['indices_test'] = train_test_split(\n",
    "        dataframe.utterance_text, processed_data[key]['labels'], dataframe.index, test_size=0.33, random_state=0)\n",
    "    y_train = to_categorical(y_train)\n",
    "    processed_data[key]['y_test'] = to_categorical(\n",
    "        processed_data[key]['y_test'])\n",
    "\n",
    "    x_train = tokenizer(\n",
    "        text=x_train.tolist(),\n",
    "        add_special_tokens=True,\n",
    "        max_length=70,\n",
    "        truncation=True,\n",
    "        padding=True,\n",
    "        return_tensors='tf',\n",
    "        return_token_type_ids=False,\n",
    "        return_attention_mask=True,\n",
    "        verbose=True)\n",
    "    processed_data[key]['x_test'] = tokenizer(\n",
    "        text=processed_data[key]['x_test'].tolist(),\n",
    "        add_special_tokens=True,\n",
    "        max_length=70,\n",
    "        truncation=True,\n",
    "        padding=True,\n",
    "        return_tensors='tf',\n",
    "        return_token_type_ids=False,\n",
    "        return_attention_mask=True,\n",
    "        verbose=True)\n",
    "\n",
    "    input_ids = x_train['input_ids']\n",
    "    attention_mask = x_train['attention_mask']\n",
    "\n",
    "    max_len = 70\n",
    "    input_ids = Input(shape=(max_len,), dtype=tf.int32, name=\"input_ids\")\n",
    "    input_mask = Input(shape=(max_len,), dtype=tf.int32, name=\"attention_mask\")\n",
    "    embeddings = bert(input_ids, attention_mask=input_mask)[0]\n",
    "    out = tf.keras.layers.GlobalMaxPool1D()(embeddings)\n",
    "    out = Dense(128, activation='relu')(out)\n",
    "    out = Dense(32, activation='relu')(out)\n",
    "    out = Dense(8, activation='relu')(out)\n",
    "    out = tf.keras.layers.Dropout(0.25)(out)\n",
    "    y = Dense(shape, activation='sigmoid')(out)\n",
    "    processed_data[key]['model'] = tf.keras.Model(\n",
    "        inputs=[input_ids, input_mask], outputs=y)\n",
    "    processed_data[key]['model'].layers[2].trainable = True\n",
    "\n",
    "    optimizer = Adam(\n",
    "        # This learning rate is for bert model, taken from huggingface website\n",
    "        learning_rate=5e-05,\n",
    "        epsilon=1e-08,\n",
    "        decay=0.01,\n",
    "        clipnorm=1.0)\n",
    "    # Set loss and metrics\n",
    "    loss = CategoricalCrossentropy(from_logits=True)\n",
    "    metric = CategoricalAccuracy('balanced_accuracy'),\n",
    "    # Compile the model\n",
    "    processed_data[key]['model'].compile(\n",
    "        optimizer=optimizer,\n",
    "        loss=loss,\n",
    "        metrics=metric)\n",
    "\n",
    "    callback = tf.keras.callbacks.EarlyStopping(monitor=\"val_balanced_accuracy\",\n",
    "    min_delta=0,\n",
    "    patience=3,\n",
    "    verbose=1,\n",
    "    mode=\"auto\",\n",
    "    baseline=None,\n",
    "    restore_best_weights=True)\n",
    "\n",
    "    processed_data[key]['train_history'] = processed_data[key]['model'].fit(\n",
    "        x={'input_ids': x_train['input_ids'],\n",
    "            'attention_mask': x_train['attention_mask']},\n",
    "        y=y_train,\n",
    "        validation_data=(\n",
    "            {'input_ids': processed_data[key]['x_test']['input_ids'],\n",
    "                'attention_mask': processed_data[key]['x_test']['attention_mask']}, processed_data[key]['y_test']\n",
    "        ),\n",
    "        epochs=30,\n",
    "        callbacks=[callback],\n",
    "        batch_size = 36\n",
    "    )\n"
   ]
  },
  {
   "cell_type": "code",
   "execution_count": 23,
   "metadata": {},
   "outputs": [
    {
     "name": "stdout",
     "output_type": "stream",
     "text": [
      "Epoch 1/30\n",
      "WARNING:tensorflow:Gradients do not exist for variables ['tf_bert_model_2/bert/pooler/dense/kernel:0', 'tf_bert_model_2/bert/pooler/dense/bias:0'] when minimizing the loss. If you're using `model.compile()`, did you forget to provide a `loss`argument?\n",
      "WARNING:tensorflow:Gradients do not exist for variables ['tf_bert_model_2/bert/pooler/dense/kernel:0', 'tf_bert_model_2/bert/pooler/dense/bias:0'] when minimizing the loss. If you're using `model.compile()`, did you forget to provide a `loss`argument?\n"
     ]
    },
    {
     "name": "stderr",
     "output_type": "stream",
     "text": [
      "2022-05-15 13:08:24.015489: I tensorflow/core/grappler/optimizers/custom_graph_optimizer_registry.cc:113] Plugin optimizer for device_type GPU is enabled.\n"
     ]
    },
    {
     "name": "stdout",
     "output_type": "stream",
     "text": [
      "91/91 [==============================] - ETA: 0s - loss: 1.1992 - balanced_accuracy: 0.4498"
     ]
    },
    {
     "name": "stderr",
     "output_type": "stream",
     "text": [
      "2022-05-15 13:10:59.058200: I tensorflow/core/grappler/optimizers/custom_graph_optimizer_registry.cc:113] Plugin optimizer for device_type GPU is enabled.\n"
     ]
    },
    {
     "name": "stdout",
     "output_type": "stream",
     "text": [
      "91/91 [==============================] - 187s 2s/step - loss: 1.1992 - balanced_accuracy: 0.4498 - val_loss: 1.0619 - val_balanced_accuracy: 0.5124\n",
      "Epoch 2/30\n",
      "91/91 [==============================] - 104s 1s/step - loss: 1.0948 - balanced_accuracy: 0.5028 - val_loss: 0.9819 - val_balanced_accuracy: 0.5248\n",
      "Epoch 3/30\n",
      "91/91 [==============================] - 115s 1s/step - loss: 1.0636 - balanced_accuracy: 0.5122 - val_loss: 0.9670 - val_balanced_accuracy: 0.5273\n",
      "Epoch 4/30\n",
      "91/91 [==============================] - 111s 1s/step - loss: 1.0111 - balanced_accuracy: 0.5278 - val_loss: 0.9806 - val_balanced_accuracy: 0.5881\n",
      "Epoch 5/30\n",
      "91/91 [==============================] - 113s 1s/step - loss: 0.9793 - balanced_accuracy: 0.5410 - val_loss: 0.9647 - val_balanced_accuracy: 0.5751\n",
      "Epoch 6/30\n",
      "91/91 [==============================] - 112s 1s/step - loss: 0.9536 - balanced_accuracy: 0.5511 - val_loss: 0.9481 - val_balanced_accuracy: 0.6135\n",
      "Epoch 7/30\n",
      "91/91 [==============================] - 112s 1s/step - loss: 0.9159 - balanced_accuracy: 0.5691 - val_loss: 0.9334 - val_balanced_accuracy: 0.6048\n",
      "Epoch 8/30\n",
      "91/91 [==============================] - 113s 1s/step - loss: 0.8757 - balanced_accuracy: 0.5905 - val_loss: 0.9327 - val_balanced_accuracy: 0.6185\n",
      "Epoch 9/30\n",
      "91/91 [==============================] - 114s 1s/step - loss: 0.8688 - balanced_accuracy: 0.5917 - val_loss: 0.9174 - val_balanced_accuracy: 0.6129\n",
      "Epoch 10/30\n",
      "91/91 [==============================] - 105s 1s/step - loss: 0.8584 - balanced_accuracy: 0.5939 - val_loss: 0.9313 - val_balanced_accuracy: 0.6210\n",
      "Epoch 11/30\n",
      "91/91 [==============================] - 108s 1s/step - loss: 0.8250 - balanced_accuracy: 0.6125 - val_loss: 0.9435 - val_balanced_accuracy: 0.6259\n",
      "Epoch 12/30\n",
      "91/91 [==============================] - 113s 1s/step - loss: 0.8100 - balanced_accuracy: 0.6180 - val_loss: 0.9349 - val_balanced_accuracy: 0.6234\n",
      "Epoch 13/30\n",
      "91/91 [==============================] - 111s 1s/step - loss: 0.7865 - balanced_accuracy: 0.6364 - val_loss: 0.9091 - val_balanced_accuracy: 0.6762\n",
      "Epoch 14/30\n",
      "91/91 [==============================] - 107s 1s/step - loss: 0.7452 - balanced_accuracy: 0.6826 - val_loss: 0.9553 - val_balanced_accuracy: 0.6613\n",
      "Epoch 15/30\n",
      "91/91 [==============================] - 103s 1s/step - loss: 0.7323 - balanced_accuracy: 0.6774 - val_loss: 0.9382 - val_balanced_accuracy: 0.6650\n",
      "Epoch 16/30\n",
      "91/91 [==============================] - ETA: 0s - loss: 0.7240 - balanced_accuracy: 0.6798Restoring model weights from the end of the best epoch: 13.\n",
      "91/91 [==============================] - 104s 1s/step - loss: 0.7240 - balanced_accuracy: 0.6798 - val_loss: 0.9906 - val_balanced_accuracy: 0.6563\n",
      "Epoch 16: early stopping\n"
     ]
    }
   ],
   "source": [
    "construct_model(df_therapist, 'therapist', 4)"
   ]
  },
  {
   "cell_type": "code",
   "execution_count": 24,
   "metadata": {},
   "outputs": [],
   "source": [
    "import matplotlib.pyplot as plt\n",
    "\n",
    "def plot_convergence(history, key):\n",
    "    plt.plot(history.history['balanced_accuracy'])\n",
    "    plt.plot(history.history['val_balanced_accuracy'])\n",
    "    plt.title('Model Accuracy for {}'.format(key))\n",
    "    plt.ylabel('accuracy')\n",
    "    plt.xlabel('epoch')\n",
    "    plt.legend(['train', 'val'], loc='upper left')\n",
    "    plt.show()\n",
    "    \n",
    "    plt.plot(history.history['loss'])\n",
    "    plt.plot(history.history['val_loss'])\n",
    "    plt.title('Model Loss for {}'.format(key))\n",
    "    plt.ylabel('loss')\n",
    "    plt.xlabel('epoch')\n",
    "    plt.legend(['train', 'val'], loc='upper left')\n",
    "    plt.show()"
   ]
  },
  {
   "cell_type": "code",
   "execution_count": 25,
   "metadata": {},
   "outputs": [
    {
     "data": {
      "image/png": "[encoded data removed]",
      "text/plain": [
       "<Figure size 432x288 with 1 Axes>"
      ]
     },
     "metadata": {
      "needs_background": "light"
     },
     "output_type": "display_data"
    },
    {
     "data": {
      "image/png": "[encoded data removed]",
      "text/plain": [
       "<Figure size 432x288 with 1 Axes>"
      ]
     },
     "metadata": {
      "needs_background": "light"
     },
     "output_type": "display_data"
    }
   ],
   "source": [
    "plot_convergence(processed_data['therapist']['train_history'], 'therapist')"
   ]
  },
  {
   "cell_type": "code",
   "execution_count": 26,
   "metadata": {},
   "outputs": [
    {
     "name": "stderr",
     "output_type": "stream",
     "text": [
      "2022-05-15 13:39:13.925146: I tensorflow/core/grappler/optimizers/custom_graph_optimizer_registry.cc:113] Plugin optimizer for device_type GPU is enabled.\n"
     ]
    },
    {
     "data": {
      "text/plain": [
       "array([0.92701685, 0.09708139, 0.7790912 , 0.10547308], dtype=float32)"
      ]
     },
     "execution_count": 26,
     "metadata": {},
     "output_type": "execute_result"
    }
   ],
   "source": [
    "predicted_raw = processed_data['therapist']['model'].predict(\n",
    "    {'input_ids': processed_data['therapist']['x_test']['input_ids'], 'attention_mask': processed_data['therapist']['x_test']['attention_mask']})\n",
    "predicted_raw[0]"
   ]
  },
  {
   "cell_type": "code",
   "execution_count": 43,
   "metadata": {},
   "outputs": [],
   "source": [
    "y_predicted = (predicted_raw == predicted_raw.max(axis=1, keepdims=1)).astype(float)\n",
    "y_true =  processed_data['therapist']['y_test']"
   ]
  },
  {
   "cell_type": "code",
   "execution_count": 44,
   "metadata": {},
   "outputs": [
    {
     "name": "stdout",
     "output_type": "stream",
     "text": [
      "                 precision    recall  f1-score   support\n",
      "\n",
      "       question       0.64      0.57      0.61       438\n",
      "therapist_input       0.55      0.53      0.54       232\n",
      "     reflection       0.58      0.68      0.63       453\n",
      "          other       0.88      0.83      0.85       489\n",
      "\n",
      "      micro avg       0.68      0.68      0.68      1612\n",
      "      macro avg       0.66      0.65      0.66      1612\n",
      "   weighted avg       0.68      0.68      0.68      1612\n",
      "    samples avg       0.68      0.68      0.68      1612\n",
      "\n"
     ]
    }
   ],
   "source": [
    "from sklearn import metrics\n",
    "print(metrics.classification_report(y_true, y_predicted, target_names=df_therapist['behaviour_type'].unique()))"
   ]
  },
  {
   "cell_type": "code",
   "execution_count": 13,
   "metadata": {},
   "outputs": [
    {
     "name": "stdout",
     "output_type": "stream",
     "text": [
      "Epoch 1/30\n"
     ]
    },
    {
     "name": "stderr",
     "output_type": "stream",
     "text": [
      "2022-05-15 15:22:54.770573: W tensorflow/core/platform/profile_utils/cpu_utils.cc:128] Failed to get CPU frequency: 0 Hz\n",
      "/Users/nandangrover/miniforge3/envs/deeplearning_2/lib/python3.9/site-packages/tensorflow/python/util/dispatch.py:1082: UserWarning: \"`categorical_crossentropy` received `from_logits=True`, but the `output` argument was produced by a sigmoid or softmax activation and thus does not represent logits. Was this intended?\"\n",
      "  return dispatch_target(*args, **kwargs)\n"
     ]
    },
    {
     "name": "stdout",
     "output_type": "stream",
     "text": [
      "WARNING:tensorflow:Gradients do not exist for variables ['tf_bert_model/bert/pooler/dense/kernel:0', 'tf_bert_model/bert/pooler/dense/bias:0'] when minimizing the loss. If you're using `model.compile()`, did you forget to provide a `loss`argument?\n",
      "WARNING:tensorflow:Gradients do not exist for variables ['tf_bert_model/bert/pooler/dense/kernel:0', 'tf_bert_model/bert/pooler/dense/bias:0'] when minimizing the loss. If you're using `model.compile()`, did you forget to provide a `loss`argument?\n"
     ]
    },
    {
     "name": "stderr",
     "output_type": "stream",
     "text": [
      "2022-05-15 15:23:01.671216: I tensorflow/core/grappler/optimizers/custom_graph_optimizer_registry.cc:113] Plugin optimizer for device_type GPU is enabled.\n"
     ]
    },
    {
     "name": "stdout",
     "output_type": "stream",
     "text": [
      "90/90 [==============================] - ETA: 0s - loss: 0.9051 - balanced_accuracy: 0.6284"
     ]
    },
    {
     "name": "stderr",
     "output_type": "stream",
     "text": [
      "2022-05-15 15:24:51.898722: I tensorflow/core/grappler/optimizers/custom_graph_optimizer_registry.cc:113] Plugin optimizer for device_type GPU is enabled.\n"
     ]
    },
    {
     "name": "stdout",
     "output_type": "stream",
     "text": [
      "90/90 [==============================] - 135s 1s/step - loss: 0.9051 - balanced_accuracy: 0.6284 - val_loss: 0.8566 - val_balanced_accuracy: 0.6352\n",
      "Epoch 2/30\n",
      "90/90 [==============================] - 117s 1s/step - loss: 0.8642 - balanced_accuracy: 0.6219 - val_loss: 0.8272 - val_balanced_accuracy: 0.6516\n",
      "Epoch 3/30\n",
      "90/90 [==============================] - 116s 1s/step - loss: 0.8195 - balanced_accuracy: 0.6303 - val_loss: 0.8143 - val_balanced_accuracy: 0.6503\n",
      "Epoch 4/30\n",
      "90/90 [==============================] - 115s 1s/step - loss: 0.7660 - balanced_accuracy: 0.6625 - val_loss: 0.8142 - val_balanced_accuracy: 0.6302\n",
      "Epoch 5/30\n",
      "90/90 [==============================] - ETA: 0s - loss: 0.7236 - balanced_accuracy: 0.6870Restoring model weights from the end of the best epoch: 2.\n",
      "90/90 [==============================] - 107s 1s/step - loss: 0.7236 - balanced_accuracy: 0.6870 - val_loss: 0.7988 - val_balanced_accuracy: 0.6428\n",
      "Epoch 5: early stopping\n"
     ]
    }
   ],
   "source": [
    "construct_model(df_client, 'client', 3)"
   ]
  },
  {
   "cell_type": "code",
   "execution_count": 54,
   "metadata": {},
   "outputs": [
    {
     "data": {
      "image/png": "[encoded data removed]",
      "text/plain": [
       "<Figure size 432x288 with 1 Axes>"
      ]
     },
     "metadata": {
      "needs_background": "light"
     },
     "output_type": "display_data"
    },
    {
     "data": {
      "image/png": "[encoded data removed]",
      "text/plain": [
       "<Figure size 432x288 with 1 Axes>"
      ]
     },
     "metadata": {
      "needs_background": "light"
     },
     "output_type": "display_data"
    }
   ],
   "source": [
    "plot_convergence(processed_data['client']['train_history'], 'client')"
   ]
  },
  {
   "cell_type": "code",
   "execution_count": 14,
   "metadata": {},
   "outputs": [
    {
     "name": "stderr",
     "output_type": "stream",
     "text": [
      "2022-05-15 17:06:01.790415: I tensorflow/core/grappler/optimizers/custom_graph_optimizer_registry.cc:113] Plugin optimizer for device_type GPU is enabled.\n"
     ]
    },
    {
     "data": {
      "text/plain": [
       "array([0.7357803 , 0.5635742 , 0.37461808], dtype=float32)"
      ]
     },
     "execution_count": 14,
     "metadata": {},
     "output_type": "execute_result"
    }
   ],
   "source": [
    "predicted_raw = processed_data['client']['model'].predict(\n",
    "    {'input_ids': processed_data['client']['x_test']['input_ids'], 'attention_mask': processed_data['client']['x_test']['attention_mask']})\n",
    "predicted_raw[0]"
   ]
  },
  {
   "cell_type": "code",
   "execution_count": 20,
   "metadata": {},
   "outputs": [
    {
     "data": {
      "text/plain": [
       "array([[1., 0., 0.],\n",
       "       [1., 0., 0.],\n",
       "       [1., 0., 0.],\n",
       "       ...,\n",
       "       [0., 1., 0.],\n",
       "       [1., 0., 0.],\n",
       "       [1., 0., 0.]])"
      ]
     },
     "execution_count": 20,
     "metadata": {},
     "output_type": "execute_result"
    }
   ],
   "source": [
    "y_predicted = (predicted_raw == predicted_raw.max(axis=1, keepdims=1)).astype(float)\n",
    "y_true =  processed_data['client']['y_test']"
   ]
  },
  {
   "cell_type": "code",
   "execution_count": 23,
   "metadata": {},
   "outputs": [
    {
     "name": "stdout",
     "output_type": "stream",
     "text": [
      "              precision    recall  f1-score   support\n",
      "\n",
      "     neutral       0.68      0.92      0.78      1003\n",
      "      change       0.48      0.27      0.35       403\n",
      "     sustain       0.00      0.00      0.00       184\n",
      "\n",
      "   micro avg       0.65      0.65      0.65      1590\n",
      "   macro avg       0.39      0.40      0.38      1590\n",
      "weighted avg       0.55      0.65      0.58      1590\n",
      " samples avg       0.65      0.65      0.65      1590\n",
      "\n"
     ]
    }
   ],
   "source": [
    "from sklearn import metrics\n",
    "print(metrics.classification_report(y_true, y_predicted, zero_division=False, target_names=df_client['behaviour_type'].unique()))"
   ]
  }
 ],
 "metadata": {
  "interpreter": {
   "hash": "0b91b880391326c9b3b0c3b5785025499e8b1dbc648397c9e444b0a920ce9ef1"
  },
  "kernelspec": {
   "display_name": "Python 3.9.12 ('deeplearning_2')",
   "language": "python",
   "name": "python3"
  },
  "language_info": {
   "codemirror_mode": {
    "name": "ipython",
    "version": 3
   },
   "file_extension": ".py",
   "mimetype": "text/x-python",
   "name": "python",
   "nbconvert_exporter": "python",
   "pygments_lexer": "ipython3",
   "version": "3.9.12"
  },
  "orig_nbformat": 4
 },
 "nbformat": 4,
 "nbformat_minor": 2
}
